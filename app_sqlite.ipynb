{
 "cells": [
  {
   "cell_type": "markdown",
   "id": "adfbe31d",
   "metadata": {},
   "source": [
    "# REQUISITOS"
   ]
  },
  {
   "cell_type": "markdown",
   "id": "9a3d32ee",
   "metadata": {},
   "source": [
    "Avaliação – Python + SQLite\n",
    "Tema: CRUD em 'alunos'\n",
    "\n",
    "O que o script deve fazer:\n",
    "1) Criar 'escola.db'\n",
    "2) Criar tabela 'alunos' -> Seguindo o diagrama\n",
    "3) Inserir registros na tabela alunos\n",
    "4) Listar todos\n",
    "5) Buscar por id\n",
    "6) Atualizar registros\n",
    "7) Deletar registros\n"
   ]
  },
  {
   "cell_type": "markdown",
   "id": "745d5fef",
   "metadata": {},
   "source": [
    "# CRIAR 'ESCOLA.DB'"
   ]
  },
  {
   "cell_type": "code",
   "execution_count": 1,
   "id": "1087382b",
   "metadata": {},
   "outputs": [],
   "source": [
    "import sqlite3"
   ]
  },
  {
   "cell_type": "code",
   "execution_count": 2,
   "id": "7c06f5bd",
   "metadata": {},
   "outputs": [],
   "source": [
    "banco = 'escola.db'"
   ]
  },
  {
   "cell_type": "markdown",
   "id": "28715c01",
   "metadata": {},
   "source": [
    "# CRIAR TABELA 'ALUNOS'"
   ]
  },
  {
   "cell_type": "code",
   "execution_count": 3,
   "id": "10c7015e",
   "metadata": {},
   "outputs": [],
   "source": [
    "script_sql = \"\"\"CREATE TABLE IF NOT EXISTS alunos(\n",
    "                id_aluno INTEGER PRIMARY KEY AUTOINCREMENT,\n",
    "                nome TEXT NOT NULL,\n",
    "                idade INTEGER NOT NULL,\n",
    "                email TEXT NOT NULL\n",
    ")\"\"\"\n",
    "\n",
    "\n",
    "try:\n",
    "    with sqlite3.connect(banco) as conn: # FAZ A CONEXÃO COM O BANCO DE DADOS\n",
    "        cur = conn.cursor() # CRIA O CURSOR\n",
    "\n",
    "        cur.execute(script_sql) # EXECUTA O SCRIPT SQL\n",
    "\n",
    "\n",
    "        # SALVA AS ALTERAÇÕES NO BANCO DE DADOS\n",
    "        conn.commit()\n",
    "\n",
    "except sqlite3.connect(banco) as e:\n",
    "    print('Erro: ', e)"
   ]
  },
  {
   "cell_type": "markdown",
   "id": "a7c11c51",
   "metadata": {},
   "source": [
    "# INSERIR REGISTROS NA TABELA ALUNOS E LISTANDO"
   ]
  },
  {
   "cell_type": "code",
   "execution_count": 6,
   "id": "353c4b49",
   "metadata": {},
   "outputs": [
    {
     "name": "stdout",
     "output_type": "stream",
     "text": [
      "Bryan 17 BCB@gmail.com\n"
     ]
    }
   ],
   "source": [
    "# LISTAR\n",
    "\n",
    "script_sql = \"SELECT * FROM alunos\"\n",
    "\n",
    "try:\n",
    "    with sqlite3.connect(banco) as conn: # CONECTA COM O BANCO DE DADOS\n",
    "        conn.row_factory = sqlite3.Row # ALTERA O RETORNO DA CONSULTA \n",
    "        cur = conn.cursor() # CRIA O CURSOR\n",
    "\n",
    "        cur.execute(script_sql) # EXECUTA O SCRIPT SQL\n",
    "        res = cur.fetchall() # RETORNA OS REGISTROS DO BANCO  EM UMA LISTA DE TUPLAS\n",
    "\n",
    "except sqlite3.OperationalError as e:\n",
    "    print('Erro:', e)\n",
    "for i in res:\n",
    "    print(i['nome'],i['idade'],i['email'])"
   ]
  },
  {
   "cell_type": "code",
   "execution_count": 5,
   "id": "f17913c5",
   "metadata": {},
   "outputs": [],
   "source": [
    "# INSERIR\n",
    "\n",
    "script_sql = \"\"\"INSERT INTO alunos (nome,idade,email) \n",
    "                VALUES (?,?,?)\"\"\"\n",
    "\n",
    "\n",
    "try:\n",
    "    with sqlite3.connect(banco) as conn: # FAZ A CONEXÃO COM O BANCO DE DADOS\n",
    "        cur = conn.cursor() # CRIA O CURSOR\n",
    "\n",
    "        cur.execute(script_sql, ('Bryan',17,'BCB@gmail.com')) # EXECUTA O SCRIPT SQL\n",
    "\n",
    "\n",
    "        # SALVA AS ALTERAÇÕES NO BANCO DE DADOS\n",
    "        conn.commit()\n",
    "\n",
    "except sqlite3.OperationalError as e:\n",
    "    print('Erro: ', e)"
   ]
  },
  {
   "cell_type": "markdown",
   "id": "6f289529",
   "metadata": {},
   "source": [
    "# BUSCAR POR ID"
   ]
  },
  {
   "cell_type": "code",
   "execution_count": 10,
   "id": "a833e1ea",
   "metadata": {},
   "outputs": [
    {
     "name": "stdout",
     "output_type": "stream",
     "text": [
      "(1, 'Bryan', 17, 'BCB@gmail.com')\n"
     ]
    }
   ],
   "source": [
    "script_sql = \"SELECT * FROM alunos WHERE id_aluno = ?\"\n",
    "\n",
    "id_aluno = 1\n",
    "try:\n",
    "    with sqlite3.connect(banco) as conn: # FAZ A CONEXÃO COM O BANCO DE DADOS\n",
    "        cur = conn.cursor() # CRIA O CURSOR\n",
    "\n",
    "        cur.execute(script_sql, (1,)) # EXECUTA O SCRIPT SQL\n",
    "\n",
    "        res = cur.fetchone()\n",
    "\n",
    "        print(res)\n",
    "\n",
    "\n",
    "        # SALVA AS ALTERAÇÕES NO BANCO DE DADOS\n",
    "        conn.commit()\n",
    "\n",
    "except sqlite3.OperationalError as e:\n",
    "    print('Erro: ', e)\n"
   ]
  },
  {
   "cell_type": "markdown",
   "id": "568c09af",
   "metadata": {},
   "source": [
    "# ATUALIZAR REGISTROS"
   ]
  },
  {
   "cell_type": "code",
   "execution_count": 40,
   "id": "fafea659",
   "metadata": {},
   "outputs": [],
   "source": [
    "script_sql = \"\"\"UPDATE alunos\n",
    "                SET idade = ?\n",
    "                WHERE id_aluno = ?\"\"\"\n",
    "\n",
    "\n",
    "try:\n",
    "    with sqlite3.connect(banco) as conn: # FAZ A CONEXÃO COM O BANCO DE DADOS\n",
    "        cur = conn.cursor() # CRIA O CURSOR\n",
    "\n",
    "        cur.execute(script_sql, (19,1)) # EXECUTA O SCRIPT SQL\n",
    "\n",
    "\n",
    "        # SALVA AS ALTERAÇÕES NO BANCO DE DADOS\n",
    "        conn.commit()\n",
    "\n",
    "except sqlite3.OperationalError as e:\n",
    "    print('Erro: ', e)"
   ]
  },
  {
   "cell_type": "markdown",
   "id": "0e6589dc",
   "metadata": {},
   "source": [
    "# DELETAR REGISTROS"
   ]
  },
  {
   "cell_type": "code",
   "execution_count": 41,
   "id": "24b76711",
   "metadata": {},
   "outputs": [],
   "source": [
    "script_sql = \"\"\"DELETE FROM alunos\n",
    "                WHERE id_aluno = ?\"\"\"\n",
    "\n",
    "\n",
    "try:\n",
    "    with sqlite3.connect(banco) as conn: # FAZ A CONEXÃO COM O BANCO DE DADOS\n",
    "        cur = conn.cursor() # CRIA O CURSOR\n",
    "\n",
    "        cur.execute(script_sql, (4,)) # EXECUTA O SCRIPT SQL\n",
    "\n",
    "\n",
    "        # SALVA AS ALTERAÇÕES NO BANCO DE DADOS\n",
    "        conn.commit()\n",
    "\n",
    "except sqlite3.OperationalError as e:\n",
    "    print('Erro: ', e)"
   ]
  }
 ],
 "metadata": {
  "kernelspec": {
   "display_name": "Python 3",
   "language": "python",
   "name": "python3"
  },
  "language_info": {
   "codemirror_mode": {
    "name": "ipython",
    "version": 3
   },
   "file_extension": ".py",
   "mimetype": "text/x-python",
   "name": "python",
   "nbconvert_exporter": "python",
   "pygments_lexer": "ipython3",
   "version": "3.13.2"
  }
 },
 "nbformat": 4,
 "nbformat_minor": 5
}
